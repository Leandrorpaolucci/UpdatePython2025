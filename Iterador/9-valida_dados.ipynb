{
 "cells": [
  {
   "cell_type": "code",
   "execution_count": 85,
   "metadata": {},
   "outputs": [],
   "source": [
    "import re"
   ]
  },
  {
   "cell_type": "code",
   "execution_count": 86,
   "metadata": {},
   "outputs": [
    {
     "name": "stdout",
     "output_type": "stream",
     "text": [
      "Contato Inválido: Nome: Leandro Ribeiro, Email: Leandro.123@example.com, Telefone: 91234-19865\n",
      "Contato Inválido: Nome: Cecilia Paolucci, Email: Cecilia@dominio.com, Telefone: 94567-19856\n",
      "Contato válido: Nome: Camila Nunes E-mail: Leandro@dominio.com Telefone: Telefone: (11) 97896-1985\n"
     ]
    }
   ],
   "source": [
    "import re\n",
    "\n",
    "def validar_contatos(contatos):\n",
    "    padrao_nome = r'Nome:\\s*([A-Z][a-z]+(?:\\s[A-Z][a-z]+)?)'\n",
    "    padrao_email = r'Email:\\s*([a-zA-Z0-9._%+-]+@[a-zA-Z0-9.-]+\\.[a-zA-Z]{2,})'\n",
    "    padrao_telefone = r'Telefone:\\s*\\(\\d{2}\\)\\s\\d{5}-\\d{4}'  \n",
    "\n",
    "    for contato in contatos:\n",
    "        nome_match = re.search(padrao_nome, contato)\n",
    "        email_match = re.search(padrao_email, contato)\n",
    "        telefone_match = re.search(padrao_telefone, contato)\n",
    "\n",
    "        if nome_match and email_match and telefone_match:\n",
    "            nome = nome_match.group(1)\n",
    "            email = email_match.group(1)\n",
    "            telefone = telefone_match.group(0)  # Incluindo o telefone com DDD\n",
    "\n",
    "            print(f'Contato válido: Nome: {nome} E-mail: {email} Telefone: {telefone}')\n",
    "        else:\n",
    "            print(f'Contato Inválido: {contato}')\n",
    "\n",
    "# Teste com os exemplos fornecidos\n",
    "contatos_exemplo = [\n",
    "    \"Nome: Leandro Ribeiro, Email: Leandro.123@example.com, Telefone: 91234-19865\",\n",
    "    \"Nome: Cecilia Paolucci, Email: Cecilia@dominio.com, Telefone: 94567-19856\",\n",
    "    \"Nome: Camila Nunes, Email: Leandro@dominio.com, Telefone: (11) 97896-1985\"\n",
    "]\n",
    "\n",
    "validar_contatos(contatos_exemplo)\n"
   ]
  }
 ],
 "metadata": {
  "kernelspec": {
   "display_name": "env",
   "language": "python",
   "name": "python3"
  },
  "language_info": {
   "codemirror_mode": {
    "name": "ipython",
    "version": 3
   },
   "file_extension": ".py",
   "mimetype": "text/x-python",
   "name": "python",
   "nbconvert_exporter": "python",
   "pygments_lexer": "ipython3",
   "version": "3.12.4"
  }
 },
 "nbformat": 4,
 "nbformat_minor": 2
}
