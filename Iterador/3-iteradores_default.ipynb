{
 "cells": [
  {
   "cell_type": "code",
   "execution_count": 2,
   "metadata": {},
   "outputs": [],
   "source": [
    "import itertools"
   ]
  },
  {
   "cell_type": "code",
   "execution_count": 7,
   "metadata": {},
   "outputs": [
    {
     "name": "stdout",
     "output_type": "stream",
     "text": [
      "Número 1\n",
      "Número 2\n",
      "Número 3\n",
      "Número 4\n",
      "Número 5\n"
     ]
    }
   ],
   "source": [
    "# Exemplo 1 - Range()\n",
    "\n",
    "for i in range(1, 6):\n",
    "    print(f\"Número {i}\")"
   ]
  },
  {
   "cell_type": "code",
   "execution_count": null,
   "metadata": {},
   "outputs": [
    {
     "name": "stdout",
     "output_type": "stream",
     "text": [
      "Fruta: Maça\n",
      "Fruta: Banana\n",
      "Fruta: Laranja\n"
     ]
    }
   ],
   "source": [
    "# Exemplo 2 -  Lista de Frutras\n",
    "\n",
    "frutas = [\"Maça\", \"Banana\", \"Laranja\"]\n",
    "for fruta in frutas:\n",
    "    print(f\"Fruta: {fruta}\")"
   ]
  },
  {
   "cell_type": "code",
   "execution_count": null,
   "metadata": {},
   "outputs": [
    {
     "name": "stdout",
     "output_type": "stream",
     "text": [
      "Chave: Nome | Valor: Cecilia\n",
      "Chave: idade | Valor: 29\n"
     ]
    }
   ],
   "source": [
    "#Exemplo - 3 Dicionário   key/value\n",
    "pessoa = {\"Nome \": \"Cecilia\", \"idade\": 29}\n",
    "\n",
    "for key, value in pessoa.items():\n",
    "    print(f\"Chave: {key} | Valor: {value}\")\n"
   ]
  },
  {
   "cell_type": "code",
   "execution_count": 13,
   "metadata": {},
   "outputs": [
    {
     "name": "stdout",
     "output_type": "stream",
     "text": [
      "0: Maça\n",
      "1: Banana\n",
      "2: Laranja\n"
     ]
    }
   ],
   "source": [
    "# Exemplo 4 - Enumerate()\n",
    "for indice, fruta in enumerate(frutas):\n",
    "    print(f\"{indice}: {fruta}\")"
   ]
  },
  {
   "cell_type": "code",
   "execution_count": 16,
   "metadata": {},
   "outputs": [
    {
     "name": "stdout",
     "output_type": "stream",
     "text": [
      "0 - Nome: Alice | Idade: 30\n",
      "1 - Nome: Bob | Idade: 25\n",
      "2 - Nome: Carlos | Idade: 35\n"
     ]
    }
   ],
   "source": [
    "# Exemplo 5 - zip()\n",
    "nomes = ['Alice', 'Bob', 'Carlos']\n",
    "idades = [30,  25, 35]\n",
    "\n",
    "for indice, (nome, idade) in enumerate(zip(nomes, idades)):\n",
    "    print(f\"{indice} - Nome: {nome} | Idade: {idade}\")\n",
    "\n"
   ]
  },
  {
   "cell_type": "code",
   "execution_count": 18,
   "metadata": {},
   "outputs": [
    {
     "name": "stdout",
     "output_type": "stream",
     "text": [
      "10\n",
      "12\n",
      "14\n",
      "16\n",
      "18\n",
      "20\n"
     ]
    }
   ],
   "source": [
    "# Exemplo 6 - Itertools\n",
    "import itertools\n",
    "for i in itertools.count(start=10, step=2):\n",
    "    if i > 20:\n",
    "        break\n",
    "    print(i)\n"
   ]
  }
 ],
 "metadata": {
  "kernelspec": {
   "display_name": "env",
   "language": "python",
   "name": "python3"
  },
  "language_info": {
   "codemirror_mode": {
    "name": "ipython",
    "version": 3
   },
   "file_extension": ".py",
   "mimetype": "text/x-python",
   "name": "python",
   "nbconvert_exporter": "python",
   "pygments_lexer": "ipython3",
   "version": "3.12.4"
  }
 },
 "nbformat": 4,
 "nbformat_minor": 2
}
