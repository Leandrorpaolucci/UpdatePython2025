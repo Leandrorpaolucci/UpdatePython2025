{
 "cells": [
  {
   "cell_type": "code",
   "execution_count": 8,
   "metadata": {},
   "outputs": [],
   "source": [
    "import re"
   ]
  },
  {
   "cell_type": "code",
   "execution_count": 9,
   "metadata": {},
   "outputs": [],
   "source": [
    "def explorar_expressao_regular(texto):\n",
    "    padrao = r'\\bPython\\b' # Procurando a palavra python\n",
    "    if re.search(padrao, texto):\n",
    "        print(\"O padrão foi encontrado no texto citado.\")\n",
    "    else:\n",
    "        print(\"O Padrão não foi encontrado no texto.\")\n",
    "\n",
    "    #Identificação de e-mails\n",
    "    padrao_email = r'[a-zA-Z0-9._%+-]+@[a-zA-Z0-9.-]+\\.[a-zA-Z]{2,}'\n",
    "    emails = re.findall(padrao_email, texto)\n",
    "    print(f\"Emails encontrados: {emails}\")\n",
    "\n",
    "    # Substituir um padrão por outro\n",
    "    texto_substituido = re.sub(r'Python', 'JavaScript', texto)\n",
    "    print(texto_substituido)\n",
    "\n",
    "    #Dividir uma string com base em um padrão\n",
    "    texto_dividido = re.split(r'\\s+', texto)\n",
    "    print(texto_dividido)"
   ]
  },
  {
   "cell_type": "code",
   "execution_count": 10,
   "metadata": {},
   "outputs": [],
   "source": [
    "texto_exemplo = \"\"\"\n",
    "Olá, eu sou desenvolvedor Python.\n",
    "Você pode me contatar em meu email: exemplo@dominio.com, fulano@exemplo.com.br\n",
    "Python é uma linguagem de programação popular\n",
    "\"\"\""
   ]
  },
  {
   "cell_type": "code",
   "execution_count": 11,
   "metadata": {},
   "outputs": [
    {
     "name": "stdout",
     "output_type": "stream",
     "text": [
      "O padrão foi encontrado no texto citado.\n",
      "Emails encontrados: ['exemplo@dominio.com', 'fulano@exemplo.com.br']\n",
      "\n",
      "Olá, eu sou desenvolvedor JavaScript.\n",
      "Você pode me contatar em meu email: exemplo@dominio.com, fulano@exemplo.com.br\n",
      "JavaScript é uma linguagem de programação popular\n",
      "\n",
      "['', 'Olá,', 'eu', 'sou', 'desenvolvedor', 'Python.', 'Você', 'pode', 'me', 'contatar', 'em', 'meu', 'email:', 'exemplo@dominio.com,', 'fulano@exemplo.com.br', 'Python', 'é', 'uma', 'linguagem', 'de', 'programação', 'popular', '']\n"
     ]
    }
   ],
   "source": [
    "explorar_expressao_regular(texto_exemplo)"
   ]
  }
 ],
 "metadata": {
  "kernelspec": {
   "display_name": "env",
   "language": "python",
   "name": "python3"
  },
  "language_info": {
   "codemirror_mode": {
    "name": "ipython",
    "version": 3
   },
   "file_extension": ".py",
   "mimetype": "text/x-python",
   "name": "python",
   "nbconvert_exporter": "python",
   "pygments_lexer": "ipython3",
   "version": "3.12.4"
  }
 },
 "nbformat": 4,
 "nbformat_minor": 2
}
