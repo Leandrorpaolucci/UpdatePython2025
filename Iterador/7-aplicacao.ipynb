{
 "cells": [
  {
   "cell_type": "code",
   "execution_count": 10,
   "metadata": {},
   "outputs": [],
   "source": [
    "class VendasIterator:\n",
    "    def __init__(self, arquivo):\n",
    "        self.arquivo = arquivo\n",
    "        self.file = open(arquivo, 'r', encoding='utf-8')\n",
    "\n",
    "    def __iter__(self):\n",
    "        return self\n",
    "    \n",
    "    def __next__(self):\n",
    "        linha = self.file.readline()\n",
    "        if not linha:\n",
    "            self.file.close()   # Fecha o arquivo ao final\n",
    "            raise StopIteration\n",
    "        categoria, valor = linha.strip().split(',')\n",
    "        return categoria, float(valor)\n"
   ]
  },
  {
   "cell_type": "code",
   "execution_count": 11,
   "metadata": {},
   "outputs": [],
   "source": [
    "def gerador_soma_vendas(arquivo):\n",
    "    total_vendas = 0\n",
    "    for categoria, valor in VendasIterator(arquivo):\n",
    "        total_vendas += valor\n",
    "        yield categoria, valor, total_vendas\n",
    "        \n",
    "\n"
   ]
  },
  {
   "cell_type": "code",
   "execution_count": 20,
   "metadata": {},
   "outputs": [
    {
     "name": "stdout",
     "output_type": "stream",
     "text": [
      "Processando Vendas\n",
      "\n",
      "Categoria: Eletrônico, Valor: 300.00, Total R$: 300.00\n",
      "\n",
      "Categoria: Roupas, Valor: 150.00, Total R$: 450.00\n",
      "\n",
      "Categoria: Eletrônico, Valor: 450.00, Total R$: 900.00\n",
      "\n",
      "Categoria: Alimentos, Valor: 100.00, Total R$: 1000.00\n",
      "\n",
      "Categoria: Eletrônico, Valor: 450.00, Total R$: 1450.00\n",
      "\n",
      "Categoria: Eletrônico: Tivemos 3 vendas.\n",
      "Categoria: Roupas: Tivemos 1 vendas.\n",
      "Categoria: Alimentos: Tivemos 1 vendas.\n"
     ]
    }
   ],
   "source": [
    "contagem_vendas = {}\n",
    "arquivo = \"vendas.txt\"\n",
    "print(\"Processando Vendas\\n\")\n",
    "for categoria, valor, total in gerador_soma_vendas(arquivo):\n",
    "    print(f\"Categoria: {categoria}, Valor: {valor:.2f}, Total R$: {total:.2f}\\n\")\n",
    "\n",
    "    # Verificando a contagem de vendas por categoria\n",
    "    if categoria not in contagem_vendas:\n",
    "        contagem_vendas[categoria] = 0\n",
    "    contagem_vendas[categoria] += 1\n",
    "\n",
    "for categoria, contagem in contagem_vendas.items():\n",
    "    print(f\"Categoria: {categoria}: Tivemos {contagem} vendas.\")\n",
    "\n"
   ]
  }
 ],
 "metadata": {
  "kernelspec": {
   "display_name": "env",
   "language": "python",
   "name": "python3"
  },
  "language_info": {
   "codemirror_mode": {
    "name": "ipython",
    "version": 3
   },
   "file_extension": ".py",
   "mimetype": "text/x-python",
   "name": "python",
   "nbconvert_exporter": "python",
   "pygments_lexer": "ipython3",
   "version": "3.12.4"
  }
 },
 "nbformat": 4,
 "nbformat_minor": 2
}
