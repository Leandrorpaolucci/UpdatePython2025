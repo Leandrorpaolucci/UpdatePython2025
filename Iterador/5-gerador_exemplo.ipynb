{
 "cells": [
  {
   "cell_type": "code",
   "execution_count": 1,
   "metadata": {},
   "outputs": [],
   "source": [
    "def linhas_com_numeros_de_palavras(arquivo, numero):\n",
    "    with open(arquivo, 'r', encoding='utf-8') as file:\n",
    "        for linha in file:\n",
    "            if len(linha.split()) == numero:\n",
    "                yield linha.strip()"
   ]
  },
  {
   "cell_type": "code",
   "execution_count": 5,
   "metadata": {},
   "outputs": [
    {
     "name": "stdout",
     "output_type": "stream",
     "text": [
      "Olá mundo\n"
     ]
    }
   ],
   "source": [
    "arquivo = 'texto.txt'\n",
    "numero_palavras = 2\n",
    "\n",
    "for linha in linhas_com_numeros_de_palavras(arquivo, numero_palavras):\n",
    "    print(linha)"
   ]
  }
 ],
 "metadata": {
  "kernelspec": {
   "display_name": "env",
   "language": "python",
   "name": "python3"
  },
  "language_info": {
   "codemirror_mode": {
    "name": "ipython",
    "version": 3
   },
   "file_extension": ".py",
   "mimetype": "text/x-python",
   "name": "python",
   "nbconvert_exporter": "python",
   "pygments_lexer": "ipython3",
   "version": "3.12.4"
  }
 },
 "nbformat": 4,
 "nbformat_minor": 2
}
